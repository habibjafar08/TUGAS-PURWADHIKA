{
 "cells": [
  {
   "cell_type": "markdown",
   "metadata": {},
   "source": [
    "## Soal PPT"
   ]
  },
  {
   "cell_type": "code",
   "execution_count": 2,
   "metadata": {},
   "outputs": [
    {
     "data": {
      "text/plain": [
       "['Ganjil', 'Ganjil', 'Genap', 'Ganjil']"
      ]
     },
     "execution_count": 2,
     "metadata": {},
     "output_type": "execute_result"
    }
   ],
   "source": [
    "# Q1\n",
    "\n",
    "def convert(value):\n",
    "    if value%2 == 0:\n",
    "        return \"Genap\"\n",
    "    else:\n",
    "        return \"Ganjil\"\n",
    "\n",
    "l1 = [1, 3, 4, 5] \n",
    "result = list(map(convert, l1))\n",
    "\n",
    "result"
   ]
  },
  {
   "cell_type": "code",
   "execution_count": 7,
   "metadata": {},
   "outputs": [
    {
     "data": {
      "text/plain": [
       "[9800000.0, 9500000.0, 10300000.0]"
      ]
     },
     "execution_count": 7,
     "metadata": {},
     "output_type": "execute_result"
    }
   ],
   "source": [
    "# Q2\n",
    "\n",
    "def convert(gaji):\n",
    "    x = gaji * (1 - 0.05)\n",
    "    if x >= 9000000:\n",
    "        return gaji\n",
    "\n",
    "l1 = [9100000, 9800000, 9500000, 10300000, 9300000] \n",
    "result = list(filter(convert, l1))\n",
    "\n",
    "result"
   ]
  },
  {
   "cell_type": "markdown",
   "metadata": {},
   "source": [
    "## Soal Notion"
   ]
  },
  {
   "cell_type": "code",
   "execution_count": 8,
   "metadata": {},
   "outputs": [],
   "source": [
    "# Q1\n",
    "\n",
    "def factorial(num):\n",
    "    if num == 0:\n",
    "        return 1\n",
    "    elif num < 0:\n",
    "        return None\n",
    "    else:\n",
    "        return num * factorial(num - 1)\n",
    "    \n",
    "assert factorial(0) == 1\n",
    "assert factorial(3) == 6\n",
    "assert factorial(10) == 3628800\n",
    "assert factorial(-10) == None"
   ]
  },
  {
   "cell_type": "code",
   "execution_count": 10,
   "metadata": {},
   "outputs": [],
   "source": [
    "# Q2 \n",
    "\n",
    "def timeConvert(totalsecond):\n",
    "    if totalsecond == 0:\n",
    "        return '0s'\n",
    "    \n",
    "    hour = 0\n",
    "    while totalsecond >= 3600:\n",
    "        hour += 1\n",
    "        totalsecond -= 3600\n",
    "\n",
    "    minute = 0\n",
    "    while totalsecond >= 60:\n",
    "        minute += 1\n",
    "        totalsecond -= 60\n",
    "\n",
    "    sec = totalsecond\n",
    "\n",
    "    out = []\n",
    "    if hour > 0:\n",
    "        out.append(f'{hour}h')\n",
    "    if minute > 0:\n",
    "        out.append(f'{minute}m')\n",
    "    if sec > 0:\n",
    "        out.append(f'{sec}s')\n",
    "\n",
    "    return ' '.join(out)\n",
    "\n",
    "assert timeConvert(0) == '0s'\n",
    "assert timeConvert(30) == '30s'\n",
    "assert timeConvert(60) == '1m'\n",
    "assert timeConvert(90) == '1m 30s'\n",
    "assert timeConvert(3600) == '1h'\n",
    "assert timeConvert(3601) == '1h 1s'\n",
    "assert timeConvert(3661) == '1h 1m 1s'\n",
    "assert timeConvert(90042) == '25h 42s'"
   ]
  },
  {
   "cell_type": "code",
   "execution_count": 11,
   "metadata": {},
   "outputs": [],
   "source": [
    "# Q3\n",
    "\n",
    "def area(l, w):\n",
    "    return l * w\n",
    "\n",
    "def volume(l, w, h):\n",
    "    return area(l, w) * h\n",
    "\n",
    "assert area(10, 10) == 100\n",
    "assert area(0, 9999) == 0\n",
    "assert volume(10, 10, 10) == 1000\n",
    "assert volume(5, 8, 10) == 400"
   ]
  },
  {
   "cell_type": "code",
   "execution_count": 19,
   "metadata": {},
   "outputs": [],
   "source": [
    "# Q4\n",
    "\n",
    "def getColor(row, col):\n",
    "    if row < 0 or row > 7 or col < 0 or col > 7:\n",
    "        return ''\n",
    "    elif row%2 == col%2:\n",
    "        return 'white'\n",
    "    else:\n",
    "        return 'black'\n",
    "    \n",
    "assert getColor(1, 1) == 'white'\n",
    "assert getColor(2, 1) == 'black'\n",
    "assert getColor(1, 2) == 'black'\n",
    "assert getColor(7, 7) == 'white'\n",
    "assert getColor(0, 8) == ''\n",
    "assert getColor(2, 9) == ''"
   ]
  },
  {
   "cell_type": "code",
   "execution_count": 10,
   "metadata": {},
   "outputs": [
    {
     "data": {
      "text/plain": [
       "'QIIX QI FC XLI VSWI FYWLIW XSRMKLX.'"
      ]
     },
     "execution_count": 10,
     "metadata": {},
     "output_type": "execute_result"
    }
   ],
   "source": [
    "# Q5\n",
    "\n",
    "def encrypthor(text):\n",
    "    SYMBOL = 'ABCDEFGHIJKLMNOPQRSTUVWXYZ'\n",
    "    out = ''\n",
    "    for word in text.upper():\n",
    "        if word in SYMBOL:\n",
    "            index = SYMBOL.find(word)\n",
    "            index += 4\n",
    "\n",
    "            if index > len(SYMBOL):\n",
    "                index -= len(SYMBOL)\n",
    "            \n",
    "            out += SYMBOL[index]\n",
    "        else:\n",
    "            out += word\n",
    "\n",
    "    return out\n",
    "\n",
    "encrypthor('Meet me by the rose bushes tonight.')"
   ]
  },
  {
   "cell_type": "code",
   "execution_count": 8,
   "metadata": {},
   "outputs": [],
   "source": [
    "# Q6\n",
    "\n",
    "def isLeapYear(year):\n",
    "    if year%400 == 0:\n",
    "        return True\n",
    "    elif year%100 == 0:\n",
    "        return False\n",
    "    elif year%4 == 0:\n",
    "        return True\n",
    "    else:\n",
    "        return False\n",
    "    \n",
    "assert isLeapYear(1999) == False\n",
    "assert isLeapYear(2000) == True\n",
    "assert isLeapYear(2001) == False\n",
    "assert isLeapYear(2004) == True\n",
    "assert isLeapYear(2100) == False\n",
    "assert isLeapYear(2400) == True"
   ]
  },
  {
   "cell_type": "code",
   "execution_count": 15,
   "metadata": {},
   "outputs": [],
   "source": [
    "#Q7\n",
    "def isValidDate(tahun,bulan,hari):\n",
    "    if tahun%4==0 and bulan==2 and hari<=29:\n",
    "        return True\n",
    "    elif bulan<=12 and hari<=12:\n",
    "        return True\n",
    "    else:\n",
    "        return False\n",
    "\n",
    "assert isValidDate(2001, 2, 29) == False\n",
    "assert isValidDate(2029, 13, 1) == False\n",
    "assert isValidDate(1000000, 1, 1) == True\n",
    "assert isValidDate(2015, 4, 31) == False"
   ]
  },
  {
   "cell_type": "code",
   "execution_count": 49,
   "metadata": {},
   "outputs": [
    {
     "data": {
      "text/plain": [
       "'12,345'"
      ]
     },
     "execution_count": 49,
     "metadata": {},
     "output_type": "execute_result"
    }
   ],
   "source": [
    "#Q8\n",
    "def commaFormat(number):\n",
    "    out=f\"{number:,}\"\n",
    "    return out\n",
    "        \n",
    "        \n",
    "commaFormat(12345)\n",
    "\n"
   ]
  }
 ],
 "metadata": {
  "kernelspec": {
   "display_name": "Python 3",
   "language": "python",
   "name": "python3"
  },
  "language_info": {
   "codemirror_mode": {
    "name": "ipython",
    "version": 3
   },
   "file_extension": ".py",
   "mimetype": "text/x-python",
   "name": "python",
   "nbconvert_exporter": "python",
   "pygments_lexer": "ipython3",
   "version": "3.11.5"
  }
 },
 "nbformat": 4,
 "nbformat_minor": 2
}
